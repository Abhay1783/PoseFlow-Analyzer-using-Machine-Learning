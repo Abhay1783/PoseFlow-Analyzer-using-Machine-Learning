{
  "cells": [
    {
      "cell_type": "code",
      "execution_count": 1,
      "metadata": {
        "colab": {
          "base_uri": "https://localhost:8080/"
        },
        "id": "zdEcL9shJiT8",
        "outputId": "2f6d2f56-1e3b-409f-ed71-4985dd5de9f0"
      },
      "source": [
        "from google.colab import drive\n",
        "drive.mount('https://drive.google.com/drive/folders/1kmeXkXjgKbMR8B29fdxoUVWwZOIQjYhu?usp=drive_link')"
      ]
    },
    {
      "cell_type": "code",
      "execution_count": 1,
      "metadata": {
        "id": "Ntac2rnpJCY-"
      },
      "outputs": [],
      "source": [
        "from mpl_toolkits.mplot3d import Axes3D\n",
        "from sklearn.preprocessing import StandardScaler\n",
        "import matplotlib.pyplot as plt # plotting\n",
        "import numpy as np # linear algebra\n",
        "import os # accessing directory structure\n",
        "import pandas as pd # data processing, CSV file I/O (e.g. pd.read_csv)"
      ]
    },
    {
      "cell_type": "code",
      "execution_count": 3,
      "metadata": {
        "colab": {
          "base_uri": "https://localhost:8080/"
        },
        "id": "QorCi_kKJRgW",
        "outputId": "48e58b05-a1a3-461e-896a-3b5da6def19a"
      },
      "outputs": [
        {
          "name": "stdout",
          "output_type": "stream",
          "text": [
            "--2023-05-17 10:01:29--  https://datasets.d2.mpi-inf.mpg.de/andriluka14cvpr/mpii_human_pose_v1.tar.gz\n",
            "Resolving datasets.d2.mpi-inf.mpg.de (datasets.d2.mpi-inf.mpg.de)... 139.19.206.177\n",
            "Connecting to datasets.d2.mpi-inf.mpg.de (datasets.d2.mpi-inf.mpg.de)|139.19.206.177|:443... connected.\n",
            "HTTP request sent, awaiting response... 200 OK\n",
            "Length: 12088943206 (11G) [application/x-gzip]\n",
            "Saving to: ‘mpii_human_pose_v1.tar.gz’\n",
            "\n",
            "_pose_v1.tar.gz       0%[                    ]  95.79M  27.1MB/s    eta 8m 49s ^C\n"
          ]
        }
      ],
      "source": [
        "!wget https://datasets.d2.mpi-inf.mpg.de/andriluka14cvpr/mpii_human_pose_v1.tar.gz"
      ]
    }
  ],
  "metadata": {
    "colab": {
      "provenance": []
    },
    "kernelspec": {
      "display_name": "Python 3",
      "name": "python3"
    },
    "language_info": {
      "codemirror_mode": {
        "name": "ipython",
        "version": 3
      },
      "file_extension": ".py",
      "mimetype": "text/x-python",
      "name": "python",
      "nbconvert_exporter": "python",
      "pygments_lexer": "ipython3",
      "version": "3.10.11"
    }
  },
  "nbformat": 4,
  "nbformat_minor": 0
}
